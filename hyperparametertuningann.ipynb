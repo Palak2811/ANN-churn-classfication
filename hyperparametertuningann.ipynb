{
 "cells": [
  {
   "cell_type": "markdown",
   "metadata": {},
   "source": [
    "### Determining the optimal number of hidden layers and neurons for an Artificial Neural Network (ANN) \n",
    "This can be challenging and often requires experimentation TO FIND THE WHICH NUMBER OF HIDDEN LAYERS AND NEURONS TO USE . However, there are some guidelines and methods that can help you in making an informed decision:\n",
    "\n",
    "- Start Simple: Begin with a simple architecture and gradually increase complexity if needed.\n",
    "- Grid Search/Random Search: Use grid search or random search to try different architectures.\n",
    "- Cross-Validation: Use cross-validation to evaluate the performance of different architectures.\n",
    "- Heuristics and Rules of Thumb: Some heuristics and empirical rules can provide starting points, such as:\n",
    "  -    The number of neurons in the hidden layer should be between the size of the input layer and the size of the output layer.\n",
    "  -  A common practice is to start with 1-2 hidden layers."
   ]
  },
  {
   "cell_type": "code",
   "execution_count": 1,
   "metadata": {},
   "outputs": [
    {
     "name": "stdout",
     "output_type": "stream",
     "text": [
      "WARNING:tensorflow:From e:\\fortransferee\\mlproject3\\ann_classfication_mine\\venv\\Lib\\site-packages\\keras\\src\\losses.py:2976: The name tf.losses.sparse_softmax_cross_entropy is deprecated. Please use tf.compat.v1.losses.sparse_softmax_cross_entropy instead.\n",
      "\n"
     ]
    }
   ],
   "source": [
    "                                    #FOR CLASSFICATION HERE EXAMPLE BUT CAN BE USED FOR REGRESSION AS WELL\n",
    "import pandas as pd\n",
    "from sklearn.model_selection import train_test_split, GridSearchCV\n",
    "from sklearn.preprocessing import StandardScaler, LabelEncoder, OneHotEncoder\n",
    "from sklearn.pipeline import Pipeline\n",
    "from scikeras.wrappers import KerasClassifier\n",
    "import tensorflow as tf\n",
    "from tensorflow.keras.models import Sequential\n",
    "from tensorflow.keras.layers import Dense\n",
    "from tensorflow.keras.callbacks import EarlyStopping\n",
    "import pickle"
   ]
  },
  {
   "cell_type": "code",
   "execution_count": 2,
   "metadata": {},
   "outputs": [],
   "source": [
    "data=pd.read_csv('Churn_Modelling.csv')\n",
    "data = data.drop(['RowNumber', 'CustomerId', 'Surname'], axis=1)\n",
    "\n",
    "label_encoder_gender = LabelEncoder()\n",
    "data['Gender'] = label_encoder_gender.fit_transform(data['Gender'])\n",
    "\n",
    "onehot_encoder_geo = OneHotEncoder(handle_unknown='ignore')\n",
    "geo_encoded = onehot_encoder_geo.fit_transform(data[['Geography']]).toarray()\n",
    "geo_encoded_df = pd.DataFrame(geo_encoded, columns=onehot_encoder_geo.get_feature_names_out(['Geography']))\n",
    "\n",
    "data = pd.concat([data.drop('Geography', axis=1), geo_encoded_df], axis=1)\n",
    "\n",
    "X = data.drop('Exited', axis=1)\n",
    "y = data['Exited']\n",
    "\n",
    "X_train, X_test, y_train, y_test = train_test_split(X, y, test_size=0.2, random_state=42)\n",
    "\n",
    "scaler = StandardScaler()\n",
    "X_train = scaler.fit_transform(X_train)\n",
    "X_test = scaler.transform(X_test)\n",
    "\n",
    "# Save encoders and scaler for later use\n",
    "with open('label_encoder_gender.pkl', 'wb') as file:\n",
    "    pickle.dump(label_encoder_gender, file)\n",
    "\n",
    "with open('onehot_encoder_geo.pkl', 'wb') as file:\n",
    "    pickle.dump(onehot_encoder_geo, file)\n",
    "\n",
    "with open('scaler.pkl', 'wb') as file:\n",
    "    pickle.dump(scaler, file)"
   ]
  },
  {
   "cell_type": "code",
   "execution_count": 3,
   "metadata": {},
   "outputs": [],
   "source": [
    "## Define a function to create the model and try different parameters(KerasClassifier)\n",
    "\n",
    "def create_model(neurons=32,layers=1):\n",
    "    model=Sequential()\n",
    "    model.add(Dense(neurons,activation='relu',input_shape=(X_train.shape[1],)))\n",
    "    #if more then more than one layer is needed\n",
    "    for _ in range(layers-1):\n",
    "        model.add(Dense(neurons,activation='relu'))\n",
    "\n",
    "    model.add(Dense(1,activation='sigmoid')) # Output layer for binary classification\n",
    "    model.compile(optimizer='adam',loss=\"binary_crossentropy\",metrics=['accuracy'])\n",
    "\n",
    "    return model\n",
    "\n"
   ]
  },
  {
   "cell_type": "code",
   "execution_count": 4,
   "metadata": {},
   "outputs": [],
   "source": [
    "## Create a Keras classifier\n",
    "model=KerasClassifier(layers=1,neurons=32,build_fn=create_model,verbose=1)"
   ]
  },
  {
   "cell_type": "code",
   "execution_count": 5,
   "metadata": {},
   "outputs": [],
   "source": [
    "\n",
    "# Define the grid search parameters\n",
    "param_grid = {\n",
    "    'neurons': [16, 32, 64, 128],\n",
    "    'layers': [1, 2],\n",
    "    'epochs': [50, 100]\n",
    "}"
   ]
  },
  {
   "cell_type": "code",
   "execution_count": 6,
   "metadata": {},
   "outputs": [
    {
     "name": "stdout",
     "output_type": "stream",
     "text": [
      "Fitting 3 folds for each of 16 candidates, totalling 48 fits\n"
     ]
    },
    {
     "name": "stderr",
     "output_type": "stream",
     "text": [
      "e:\\fortransferee\\mlproject3\\ann_classfication_mine\\venv\\Lib\\site-packages\\scikeras\\wrappers.py:915: UserWarning: ``build_fn`` will be renamed to ``model`` in a future release, at which point use of ``build_fn`` will raise an Error instead.\n",
      "  X, y = self._initialize(X, y)\n"
     ]
    },
    {
     "name": "stdout",
     "output_type": "stream",
     "text": [
      "WARNING:tensorflow:From e:\\fortransferee\\mlproject3\\ann_classfication_mine\\venv\\Lib\\site-packages\\keras\\src\\backend.py:873: The name tf.get_default_graph is deprecated. Please use tf.compat.v1.get_default_graph instead.\n",
      "\n",
      "WARNING:tensorflow:From e:\\fortransferee\\mlproject3\\ann_classfication_mine\\venv\\Lib\\site-packages\\keras\\src\\optimizers\\__init__.py:309: The name tf.train.Optimizer is deprecated. Please use tf.compat.v1.train.Optimizer instead.\n",
      "\n",
      "Epoch 1/50\n",
      "WARNING:tensorflow:From e:\\fortransferee\\mlproject3\\ann_classfication_mine\\venv\\Lib\\site-packages\\keras\\src\\utils\\tf_utils.py:492: The name tf.ragged.RaggedTensorValue is deprecated. Please use tf.compat.v1.ragged.RaggedTensorValue instead.\n",
      "\n",
      "WARNING:tensorflow:From e:\\fortransferee\\mlproject3\\ann_classfication_mine\\venv\\Lib\\site-packages\\keras\\src\\engine\\base_layer_utils.py:384: The name tf.executing_eagerly_outside_functions is deprecated. Please use tf.compat.v1.executing_eagerly_outside_functions instead.\n",
      "\n",
      "250/250 [==============================] - 1s 2ms/step - loss: 0.4846 - accuracy: 0.7990\n",
      "Epoch 2/50\n",
      "250/250 [==============================] - 1s 3ms/step - loss: 0.4346 - accuracy: 0.8141\n",
      "Epoch 3/50\n",
      "250/250 [==============================] - 1s 3ms/step - loss: 0.4188 - accuracy: 0.8245\n",
      "Epoch 4/50\n",
      "250/250 [==============================] - 1s 4ms/step - loss: 0.4077 - accuracy: 0.8280\n",
      "Epoch 5/50\n",
      "250/250 [==============================] - 1s 2ms/step - loss: 0.3974 - accuracy: 0.8347\n",
      "Epoch 6/50\n",
      "250/250 [==============================] - 1s 3ms/step - loss: 0.3877 - accuracy: 0.8390\n",
      "Epoch 7/50\n",
      "250/250 [==============================] - 1s 2ms/step - loss: 0.3785 - accuracy: 0.8447\n",
      "Epoch 8/50\n",
      "250/250 [==============================] - 1s 3ms/step - loss: 0.3712 - accuracy: 0.8479\n",
      "Epoch 9/50\n",
      "250/250 [==============================] - 1s 2ms/step - loss: 0.3657 - accuracy: 0.8503\n",
      "Epoch 10/50\n",
      "250/250 [==============================] - 1s 2ms/step - loss: 0.3613 - accuracy: 0.8530\n",
      "Epoch 11/50\n",
      "250/250 [==============================] - 1s 2ms/step - loss: 0.3573 - accuracy: 0.8519\n",
      "Epoch 12/50\n",
      "250/250 [==============================] - 1s 3ms/step - loss: 0.3544 - accuracy: 0.8535\n",
      "Epoch 13/50\n",
      "250/250 [==============================] - 1s 3ms/step - loss: 0.3517 - accuracy: 0.8564\n",
      "Epoch 14/50\n",
      "250/250 [==============================] - 1s 2ms/step - loss: 0.3497 - accuracy: 0.8574\n",
      "Epoch 15/50\n",
      "250/250 [==============================] - 1s 3ms/step - loss: 0.3477 - accuracy: 0.8576\n",
      "Epoch 16/50\n",
      "250/250 [==============================] - 1s 3ms/step - loss: 0.3465 - accuracy: 0.8593\n",
      "Epoch 17/50\n",
      "250/250 [==============================] - 1s 3ms/step - loss: 0.3451 - accuracy: 0.8597\n",
      "Epoch 18/50\n",
      "250/250 [==============================] - 1s 3ms/step - loss: 0.3441 - accuracy: 0.8594\n",
      "Epoch 19/50\n",
      "250/250 [==============================] - 1s 2ms/step - loss: 0.3426 - accuracy: 0.8595\n",
      "Epoch 20/50\n",
      "250/250 [==============================] - 1s 2ms/step - loss: 0.3421 - accuracy: 0.8599\n",
      "Epoch 21/50\n",
      "250/250 [==============================] - 1s 2ms/step - loss: 0.3415 - accuracy: 0.8604\n",
      "Epoch 22/50\n",
      "250/250 [==============================] - 1s 2ms/step - loss: 0.3413 - accuracy: 0.8599\n",
      "Epoch 23/50\n",
      "250/250 [==============================] - 1s 2ms/step - loss: 0.3406 - accuracy: 0.8594\n",
      "Epoch 24/50\n",
      "250/250 [==============================] - 1s 2ms/step - loss: 0.3402 - accuracy: 0.8605\n",
      "Epoch 25/50\n",
      "250/250 [==============================] - 1s 2ms/step - loss: 0.3400 - accuracy: 0.8606\n",
      "Epoch 26/50\n",
      "250/250 [==============================] - 1s 3ms/step - loss: 0.3397 - accuracy: 0.8604\n",
      "Epoch 27/50\n",
      "250/250 [==============================] - 1s 2ms/step - loss: 0.3393 - accuracy: 0.8600\n",
      "Epoch 28/50\n",
      "250/250 [==============================] - 1s 2ms/step - loss: 0.3392 - accuracy: 0.8606\n",
      "Epoch 29/50\n",
      "250/250 [==============================] - 1s 2ms/step - loss: 0.3388 - accuracy: 0.8620\n",
      "Epoch 30/50\n",
      "250/250 [==============================] - 1s 3ms/step - loss: 0.3386 - accuracy: 0.8612\n",
      "Epoch 31/50\n",
      "250/250 [==============================] - 1s 3ms/step - loss: 0.3390 - accuracy: 0.8602\n",
      "Epoch 32/50\n",
      "250/250 [==============================] - 1s 3ms/step - loss: 0.3385 - accuracy: 0.8593\n",
      "Epoch 33/50\n",
      "250/250 [==============================] - 1s 3ms/step - loss: 0.3386 - accuracy: 0.8618\n",
      "Epoch 34/50\n",
      "250/250 [==============================] - 1s 3ms/step - loss: 0.3381 - accuracy: 0.8625\n",
      "Epoch 35/50\n",
      "250/250 [==============================] - 1s 2ms/step - loss: 0.3382 - accuracy: 0.8608\n",
      "Epoch 36/50\n",
      "250/250 [==============================] - 1s 3ms/step - loss: 0.3380 - accuracy: 0.8616\n",
      "Epoch 37/50\n",
      "250/250 [==============================] - 1s 2ms/step - loss: 0.3379 - accuracy: 0.8621\n",
      "Epoch 38/50\n",
      "250/250 [==============================] - 1s 2ms/step - loss: 0.3378 - accuracy: 0.8633\n",
      "Epoch 39/50\n",
      "250/250 [==============================] - 1s 2ms/step - loss: 0.3378 - accuracy: 0.8615\n",
      "Epoch 40/50\n",
      "250/250 [==============================] - 1s 2ms/step - loss: 0.3377 - accuracy: 0.8631\n",
      "Epoch 41/50\n",
      "250/250 [==============================] - 1s 2ms/step - loss: 0.3376 - accuracy: 0.8610\n",
      "Epoch 42/50\n",
      "250/250 [==============================] - 1s 3ms/step - loss: 0.3375 - accuracy: 0.8616\n",
      "Epoch 43/50\n",
      "250/250 [==============================] - 1s 3ms/step - loss: 0.3375 - accuracy: 0.8610\n",
      "Epoch 44/50\n",
      "250/250 [==============================] - 1s 2ms/step - loss: 0.3373 - accuracy: 0.8621\n",
      "Epoch 45/50\n",
      "250/250 [==============================] - 1s 2ms/step - loss: 0.3373 - accuracy: 0.8639\n",
      "Epoch 46/50\n",
      "250/250 [==============================] - 1s 3ms/step - loss: 0.3372 - accuracy: 0.8620\n",
      "Epoch 47/50\n",
      "250/250 [==============================] - 1s 2ms/step - loss: 0.3370 - accuracy: 0.8619\n",
      "Epoch 48/50\n",
      "250/250 [==============================] - 1s 3ms/step - loss: 0.3369 - accuracy: 0.8627\n",
      "Epoch 49/50\n",
      "250/250 [==============================] - 1s 3ms/step - loss: 0.3369 - accuracy: 0.8615\n",
      "Epoch 50/50\n",
      "250/250 [==============================] - 1s 2ms/step - loss: 0.3372 - accuracy: 0.8630\n",
      "Best: 0.857249 using {'epochs': 50, 'layers': 1, 'neurons': 16}\n"
     ]
    }
   ],
   "source": [
    "# Perform grid search\n",
    "grid = GridSearchCV(estimator=model, param_grid=param_grid, n_jobs=-1, cv=3,verbose=1)\n",
    "grid_result = grid.fit(X_train, y_train)\n",
    "\n",
    "# Print the best parameters\n",
    "print(\"Best: %f using %s\" % (grid_result.best_score_, grid_result.best_params_))"
   ]
  },
  {
   "cell_type": "code",
   "execution_count": null,
   "metadata": {},
   "outputs": [],
   "source": []
  }
 ],
 "metadata": {
  "kernelspec": {
   "display_name": "venv",
   "language": "python",
   "name": "python3"
  },
  "language_info": {
   "codemirror_mode": {
    "name": "ipython",
    "version": 3
   },
   "file_extension": ".py",
   "mimetype": "text/x-python",
   "name": "python",
   "nbconvert_exporter": "python",
   "pygments_lexer": "ipython3",
   "version": "3.11.0"
  }
 },
 "nbformat": 4,
 "nbformat_minor": 2
}
